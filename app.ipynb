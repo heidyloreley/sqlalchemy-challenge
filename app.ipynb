{
 "nbformat": 4,
 "nbformat_minor": 2,
 "metadata": {
  "language_info": {
   "name": "python",
   "codemirror_mode": {
    "name": "ipython",
    "version": 3
   },
   "version": "3.7.4-final"
  },
  "orig_nbformat": 2,
  "file_extension": ".py",
  "mimetype": "text/x-python",
  "name": "python",
  "npconvert_exporter": "python",
  "pygments_lexer": "ipython3",
  "version": 3,
  "kernelspec": {
   "name": "python37464bitbaseconda621df6d49d2c4311a89d7503a44084b1",
   "display_name": "Python 3.7.4 64-bit ('base': conda)"
  }
 },
 "cells": [
  {
   "cell_type": "code",
   "execution_count": 10,
   "metadata": {},
   "outputs": [],
   "source": [
    "# Depndencies\n",
    "import numpy as np\n",
    "import sqlalchemy\n",
    "from sqlalchemy.ext.automap import automap_base\n",
    "from sqlalchemy.orm import Session\n",
    "from sqlalchemy import create_engine, func\n",
    "import datetime as dt\n",
    "from flask import Flask, jsonify\n",
    "\n",
    "\n",
    "#################################################\n",
    "# Database Setup\n",
    "#################################################\n",
    "\n",
    "engine = create_engine(\"sqlite:///Resources\\hawaii.sqlite\")\n",
    "Base = automap_base()\n",
    "Base.prepare(engine, reflect=True)\n",
    "Measurement = Base.classes.measurement\n",
    "Station = Base.classes.station"
   ]
  },
  {
   "cell_type": "code",
   "execution_count": 24,
   "metadata": {
    "tags": [
     "outputPrepend"
    ]
   },
   "outputs": [
    {
     "output_type": "stream",
     "name": "stdout",
     "text": "<class 'list'>\n"
    }
   ],
   "source": [
    "session = Session(engine)\n",
    "lastdate = session.query(Measurement.date).order_by(Measurement.date.desc()).first().date\n",
    "lastdateD = dt.datetime.strptime(lastdate,'%Y-%m-%d')\n",
    "last12monthsS = lastdateD - dt.timedelta(days=366)\n",
    "\n",
    "#prcpL12Months = session.query(Measurement.date,Measurement.prcp).filter(Measurement.date >= ((dt.datetime.strptime(lastdate),'%Y-%m-%d') - dt.timedelta(days=366)).all()\n",
    "\n",
    "prcpL12Months = session.query(Measurement.date,Measurement.prcp).filter(Measurement.date >= last12monthsS).all()\n",
    "print(type(prcpL12Months))\n",
    "\n",
    "#session.query(Measurement.date,Measurement.prcp).filter(Measurement.date >= last12monthsS).limit(5).all()\n",
    "\n",
    "#print(prcpL12Months)"
   ]
  },
  {
   "cell_type": "code",
   "execution_count": 27,
   "metadata": {},
   "outputs": [
    {
     "output_type": "execute_result",
     "data": {
      "text/plain": "{'date': '2017-08-23', 'prcp': 0.45}"
     },
     "metadata": {},
     "execution_count": 27
    }
   ],
   "source": [
    "prcpData = []\n",
    "for date, prcp in prcpL12Months:\n",
    "    prcpDict = {}\n",
    "    prcpDict[\"date\"] = date\n",
    "    prcpDict[\"prcp\"] = prcp\n",
    "\n",
    "    prcpData.append(prcpDict)\n",
    "\n"
   ]
  },
  {
   "cell_type": "code",
   "execution_count": 23,
   "metadata": {},
   "outputs": [],
   "source": [
    "all_passengers = []\n",
    "for name, age, sex in results:\n",
    "    passenger_dict = {}\n",
    "    passenger_dict[\"name\"] = name\n",
    "    passenger_dict[\"age\"] = age\n",
    "    passenger_dict[\"sex\"] = sex\n",
    "    all_passengers.append(passenger_dict)\n"
   ]
  },
  {
   "cell_type": "code",
   "execution_count": 34,
   "metadata": {},
   "outputs": [
    {
     "output_type": "stream",
     "name": "stdout",
     "text": "<class 'list'>\n"
    },
    {
     "output_type": "execute_result",
     "data": {
      "text/plain": "[('USC00519397'),\n ('USC00513117'),\n ('USC00514830'),\n ('USC00517948'),\n ('USC00518838'),\n ('USC00519523'),\n ('USC00519281'),\n ('USC00511918'),\n ('USC00516128')]"
     },
     "metadata": {},
     "execution_count": 34
    }
   ],
   "source": [
    "stations = session.query(Station.station).all()\n",
    "print(type(stations))\n",
    "stations\n",
    "\n",
    ""
   ]
  },
  {
   "cell_type": "code",
   "execution_count": 37,
   "metadata": {},
   "outputs": [
    {
     "output_type": "stream",
     "name": "stdout",
     "text": "<class 'list'>\n"
    },
    {
     "output_type": "execute_result",
     "data": {
      "text/plain": "['USC00519397',\n 'USC00513117',\n 'USC00514830',\n 'USC00517948',\n 'USC00518838',\n 'USC00519523',\n 'USC00519281',\n 'USC00511918',\n 'USC00516128']"
     },
     "metadata": {},
     "execution_count": 37
    }
   ],
   "source": [
    "stations = list(np.ravel(stations))\n",
    "print(type(stations))\n",
    "stations\n",
    ""
   ]
  },
  {
   "cell_type": "code",
   "execution_count": 40,
   "metadata": {},
   "outputs": [
    {
     "output_type": "execute_result",
     "data": {
      "text/plain": "'USC00519523'"
     },
     "metadata": {},
     "execution_count": 40
    }
   ],
   "source": [
    "MostActiveStationT = session.query(Measurement.station).group_by(Measurement.station).order_by(Measurement.tobs.desc()).first()\n",
    "MostActiveStationT[0]"
   ]
  },
  {
   "cell_type": "code",
   "execution_count": 42,
   "metadata": {},
   "outputs": [],
   "source": [
    "TempLast12Months = session.query(Measurement.date,Measurement.tobs).filter(Measurement.date >= last12monthsS).filter(Measurement.station == MostActiveStationT[0]).all()\n",
    ""
   ]
  },
  {
   "cell_type": "code",
   "execution_count": 46,
   "metadata": {},
   "outputs": [],
   "source": [
    "#Return a JSON list of temperature observations (TOBS) for the previous year.\n",
    "tobsList = []\n",
    "for date, tobs in TempLast12Months:\n",
    "    tobsList.append(tobs)\n",
    "\n",
    "#tobsList"
   ]
  },
  {
   "cell_type": "code",
   "execution_count": 53,
   "metadata": {},
   "outputs": [
    {
     "output_type": "execute_result",
     "data": {
      "text/plain": "[('2016-08-23', 80.0),\n ('2016-08-24', 79.0),\n ('2016-08-25', 80.0),\n ('2016-08-26', 84.0),\n ('2016-08-27', 81.0)]"
     },
     "metadata": {},
     "execution_count": 53
    }
   ],
   "source": [
    "# Create session & perform query to calculate TMIN, TAVG, and TMAX for all dates greater than and equal to the start date.\n",
    "\n",
    "lastdate = session.query(Measurement.date).order_by(Measurement.date.desc()).first().date\n",
    "lastdateD = dt.datetime.strptime(lastdate,'%Y-%m-%d')\n",
    "last12monthsS = lastdateD - dt.timedelta(days=366)\n",
    "\n",
    "MostActiveStationT = session.query(Measurement.station).group_by(Measurement.station).order_by(Measurement.tobs.desc()).first()\n",
    "TempLast12Months = session.query(Measurement.date,Measurement.tobs).filter(Measurement.date >= last12monthsS).filter(Measurement.station == MostActiveStationT[0]).all()\n",
    "#session.query(Measurement.date,Measurement.tobs).filter(Measurement.date >= last12monthsS).filter(Measurement.station == MostActiveStationT[0]).limit(5).all()\n",
    "\n",
    "#The results is a list of tuples of (date,tobs). \n",
    "\n"
   ]
  },
  {
   "cell_type": "code",
   "execution_count": 59,
   "metadata": {},
   "outputs": [
    {
     "output_type": "execute_result",
     "data": {
      "text/plain": "{'date': '2016-08-23', 'tobs': 0.0}"
     },
     "metadata": {},
     "execution_count": 59
    }
   ],
   "source": [
    "#create a dictionary date/tobs\n",
    "tempData = []\n",
    "for date, tobs in prcpL12Months:\n",
    "    temppDict = {}\n",
    "    temppDict[\"date\"] = date\n",
    "    temppDict[\"tobs\"] = tobs\n",
    "\n",
    "    tempData.append(temppDict)\n",
    "\n",
    "tempData[0]   "
   ]
  },
  {
   "cell_type": "code",
   "execution_count": null,
   "metadata": {},
   "outputs": [],
   "source": [
    "\n",
    "\n"
   ]
  },
  {
   "cell_type": "code",
   "execution_count": 79,
   "metadata": {},
   "outputs": [
    {
     "output_type": "stream",
     "name": "stdout",
     "text": "2017-12-03\n<class 'str'>\n2017-12-03 00:00:00\n<class 'datetime.datetime'>\n"
    }
   ],
   "source": [
    "start_date = input(\"What date do you want to start? (use this format yyyy-mm-dd)\")\n",
    "#print(\" Write start date (use this format yyyy-mm-dd\")\n",
    "print(start_date)\n",
    "print(type(start_date))\n",
    "start_dateD = dt.datetime.strptime(start_date,'%Y-%m-%d')\n",
    "print(start_dateD)\n",
    "print(type(start_dateD))"
   ]
  },
  {
   "cell_type": "code",
   "execution_count": 80,
   "metadata": {},
   "outputs": [
    {
     "output_type": "stream",
     "name": "stdout",
     "text": "2017-12-03\n<class 'str'>\n2017-12-03 00:00:00\n<class 'datetime.datetime'>\n"
    }
   ],
   "source": [
    "start_date = input(\"What date do you want to start? (use this format yyyy-mm-dd)\")\n",
    "#print(\" Write start date (use this format yyyy-mm-dd\")\n",
    "print(start_date)\n",
    "print(type(start_date))\n",
    "start_date = dt.datetime.strptime(start_date,'%Y-%m-%d')\n",
    "print(start_date)\n",
    "print(type(start_date))"
   ]
  },
  {
   "cell_type": "code",
   "execution_count": 77,
   "metadata": {},
   "outputs": [
    {
     "output_type": "execute_result",
     "data": {
      "text/plain": "'2017-12-03'"
     },
     "metadata": {},
     "execution_count": 77
    }
   ],
   "source": [
    "start_date = input(\"What date do you want to start? (use this format yyyy-mm-dd)\")\n",
    "#print(\" Write start date (use this format yyyy-mm-dd\")\n",
    "start_date\n",
    "#print(start_date)\n",
    "#print(type(start_date))"
   ]
  },
  {
   "cell_type": "code",
   "execution_count": 78,
   "metadata": {},
   "outputs": [
    {
     "output_type": "execute_result",
     "data": {
      "text/plain": "datetime.datetime(2017, 12, 3, 0, 0)"
     },
     "metadata": {},
     "execution_count": 78
    }
   ],
   "source": [
    "start_dateD = dt.datetime.strptime(start_date,'%Y-%m-%d')\n",
    "start_dateD"
   ]
  },
  {
   "cell_type": "code",
   "execution_count": null,
   "metadata": {},
   "outputs": [],
   "source": []
  },
  {
   "cell_type": "code",
   "execution_count": null,
   "metadata": {},
   "outputs": [],
   "source": []
  },
  {
   "cell_type": "code",
   "execution_count": null,
   "metadata": {},
   "outputs": [],
   "source": [
    "minPrcp = session.query(func.min(Measurement.tobs)).filter(Measurement.station == MostActiveStationId).all()\n",
    "maxPrcp = session.query(func.max(Measurement.tobs)).filter(Measurement.station == MostActiveStationId).all()\n",
    "avgPrcp = session.query(func.avg(Measurement.tobs)).filter(Measurement.station == MostActiveStationId).all()"
   ]
  },
  {
   "cell_type": "code",
   "execution_count": 107,
   "metadata": {},
   "outputs": [
    {
     "output_type": "stream",
     "name": "stdout",
     "text": "[(76.33898305084746, 60.0, 60.0)]\n"
    }
   ],
   "source": [
    "start_date = input(\"What date do you want to start? (use this format yyyy-mm-dd)\")\n",
    "start_date = dt.datetime.strptime(start_date,'%Y-%m-%d')\n",
    "\n",
    "MostActiveStation = session.query(Measurement.station).group_by(Measurement.station).order_by(Measurement.prcp.desc()).first()\n",
    "MostActiveStationId = MostActiveStation[0]\n",
    "#if start_\n",
    "#date = dt.date.today()\n",
    "#TempStDate = session.query(func.min(Measurement.tobs),func.max(Measurement.tobs),func.avg(Measurement.tobs)).filter(Measurement.date >= start_date).filter(Measurement.station == MostActiveStationT[0]).all()\n",
    "\n",
    "#TempStDate = session.query(Measurement.date,Measurement.tobs).filter(Measurement.date >= start_date).filter(Measurement.station == MostActiveStationT[0]).all()\n",
    "\n",
    "TempStDate = session.query(func.avg(Measurement.tobs),func.min(Measurement.tobs),func.min(Measurement.tobs)).filter(Measurement.date >= start_date).filter(Measurement.station == MostActiveStationT[0]).all()\n",
    "print(TempStDate)\n",
    "#session.query(Measurement.date,Measurement.tobs).filter(Measurement.date >= start_date).filter(Measurement.station == MostActiveStationT[0]).filter(5).all()\n",
    "\n",
    "\n",
    "#minPrcp = session.query(func.min(Measurement.tobs)).filter(Measurement.date >= start_date).filter(Measurement.station == MostActiveStationId).all()\n",
    "#maxPrcp = session.query(func.max(Measurement.tobs)).filter(Measurement.date >= start_date).filter(Measurement.station == MostActiveStationId).all()\n",
    "#avgPrcp = session.query(func.avg(Measurement.tobs)).filter(Measurement.date >= start_date).filter(Measurement.station == MostActiveStationId).all()\n",
    "\n",
    "\n",
    "#print(f'Minimum temperature = {minPrcp[0][0]} | Maximum temperature = {maxPrcp[0][0]} | Average temperature = {avgPrcp[0][0]}')\n",
    "\n",
    "#2016-12-03"
   ]
  },
  {
   "cell_type": "code",
   "execution_count": 110,
   "metadata": {},
   "outputs": [
    {
     "output_type": "stream",
     "name": "stdout",
     "text": "76.33898305084746\n60.0\n60.0\n"
    }
   ],
   "source": [
    "avgTemp=TempStDate[0][0]\n",
    "minTemp=TempStDate[0][1]\n",
    "maxTemp=TempStDate[0][2]\n",
    "\n",
    "print(avgTemp)\n",
    "print(minTemp)\n",
    "print(maxTemp)"
   ]
  },
  {
   "cell_type": "code",
   "execution_count": null,
   "metadata": {},
   "outputs": [],
   "source": [
    "minPrcp = session.query(func.min(Measurement.tobs)).filter(Measurement.date >= start_date).filter(Measurement.station == MostActiveStationId).all()"
   ]
  },
  {
   "cell_type": "code",
   "execution_count": 112,
   "metadata": {},
   "outputs": [
    {
     "output_type": "stream",
     "name": "stdout",
     "text": "[(70.05128205128206, 62.0, 62.0)]\n"
    }
   ],
   "source": [
    "start_date = \"2016-12-03\"\n",
    "start_date = dt.datetime.strptime(start_date,'%Y-%m-%d')\n",
    "end_date = \"2016-12-15\"\n",
    "end_date = dt.datetime.strptime(end_date,'%Y-%m-%d')\n",
    "\n",
    "BetwTempDate = session.query(func.avg(Measurement.tobs),func.min(Measurement.tobs),func.min(Measurement.tobs)).filter(Measurement.date >= start_date).filter(Measurement.date <= end_date).all()\n",
    "\n",
    "print(BetwTempDate)\n",
    ""
   ]
  },
  {
   "cell_type": "code",
   "execution_count": null,
   "metadata": {},
   "outputs": [],
   "source": []
  },
  {
   "cell_type": "code",
   "execution_count": null,
   "metadata": {},
   "outputs": [],
   "source": []
  },
  {
   "cell_type": "code",
   "execution_count": null,
   "metadata": {},
   "outputs": [],
   "source": []
  },
  {
   "cell_type": "code",
   "execution_count": null,
   "metadata": {},
   "outputs": [],
   "source": [
    "start_date = Y/mm/d\n",
    "\n",
    "canonicalized = start_date.replace(\" \", \"\").lower()\n",
    "for date in TempLast12Months:\n",
    "    search_date = character[\"real_name\"].replace(\" \", \"\").lower()\n",
    "\n",
    "    if search_term == canonicalized:\n",
    "        return jsonify(character)\n",
    "\n",
    "return jsonify({\"error\": f\"Character with real_name {real_name} not found.\"}), 404"
   ]
  },
  {
   "cell_type": "code",
   "execution_count": null,
   "metadata": {},
   "outputs": [],
   "source": []
  },
  {
   "cell_type": "code",
   "execution_count": null,
   "metadata": {},
   "outputs": [],
   "source": []
  },
  {
   "cell_type": "code",
   "execution_count": null,
   "metadata": {},
   "outputs": [],
   "source": [
    "    canonicalized = real_name.replace(\" \", \"\").lower()\n",
    "    for character in justice_league_members:\n",
    "        search_term = character[\"real_name\"].replace(\" \", \"\").lower()\n",
    "\n",
    "        if search_term == canonicalized:\n",
    "            return jsonify(character)\n",
    "\n",
    "    return jsonify({\"error\": f\"Character with real_name {real_name} not found.\"}), 404"
   ]
  },
  {
   "cell_type": "code",
   "execution_count": null,
   "metadata": {},
   "outputs": [],
   "source": []
  },
  {
   "cell_type": "code",
   "execution_count": null,
   "metadata": {},
   "outputs": [],
   "source": []
  },
  {
   "cell_type": "code",
   "execution_count": 50,
   "metadata": {},
   "outputs": [
    {
     "output_type": "execute_result",
     "data": {
      "text/plain": "'princessdiana'"
     },
     "metadata": {},
     "execution_count": 50
    }
   ],
   "source": [
    "justice_league_members = [\n",
    "    {\"superhero\": \"Aquaman\", \"real_name\": \"Arthur Curry\"},\n",
    "    {\"superhero\": \"Batman\", \"real_name\": \"Bruce Wayne\"},\n",
    "    {\"superhero\": \"Cyborg\", \"real_name\": \"Victor Stone\"},\n",
    "    {\"superhero\": \"Flash\", \"real_name\": \"Barry Allen\"},\n",
    "    {\"superhero\": \"Green Lantern\", \"real_name\": \"Hal Jordan\"},\n",
    "    {\"superhero\": \"Superman\", \"real_name\": \"Clark Kent/Kal-El\"},\n",
    "    {\"superhero\": \"Wonder Woman\", \"real_name\": \"Princess Diana\"}\n",
    "]\n",
    "\n",
    "search_term =[]\n",
    "search_term2 =[]\n",
    "for character in justice_league_members:\n",
    "    search_term = character[\"superhero\"].replace(\" \", \"\").lower()\n",
    "    \n",
    "    search_term2 = character[\"real_name\"].replace(\" \", \"\").lower()\n",
    "\n",
    "search_term2"
   ]
  }
 ]
}